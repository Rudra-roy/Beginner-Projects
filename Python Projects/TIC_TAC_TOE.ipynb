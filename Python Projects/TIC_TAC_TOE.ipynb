{
  "cells": [
    {
      "cell_type": "markdown",
      "metadata": {
        "id": "view-in-github",
        "colab_type": "text"
      },
      "source": [
        "<a href=\"https://colab.research.google.com/github/Rudra-roy/Beginner-Projects/blob/main/Python%20Projects/TIC_TAC_TOE.ipynb\" target=\"_parent\"><img src=\"https://colab.research.google.com/assets/colab-badge.svg\" alt=\"Open In Colab\"/></a>"
      ]
    },
    {
      "cell_type": "code",
      "execution_count": null,
      "metadata": {
        "id": "FvSzbXV7nM8V"
      },
      "outputs": [],
      "source": [
        "#DISPLAY BOARD\n",
        "from IPython.display import clear_output\n",
        "\n",
        "def display_board(board):\n",
        "  clear_output() #This only works in Jupyter notebook\n",
        "\n",
        "  print('   |   |')\n",
        "  print(' ' + board[1] + ' | ' + board[2] + ' | ' + board[3])\n",
        "  print('   |   |')\n",
        "  print('-----------')\n",
        "  print('   |   |')\n",
        "  print(' ' + board[4] + ' | ' + board[5] + ' | ' + board[6])\n",
        "  print('   |   |')\n",
        "  print('-----------')\n",
        "  print('   |   |')\n",
        "  print(' ' + board[7] + ' | ' + board[8] + ' | ' + board[9])\n",
        "  print('   |   |')"
      ]
    },
    {
      "cell_type": "code",
      "execution_count": null,
      "metadata": {
        "id": "VD4PUfx2naj5"
      },
      "outputs": [],
      "source": [
        "#Players name input\n",
        "def player_name_input():\n",
        "    clear_output()\n",
        "    global p1\n",
        "    global p2\n",
        "    p1=input(\"Enter player 1 name: \")\n",
        "    p2=input(\"Enter player 2 name: \")"
      ]
    },
    {
      "cell_type": "code",
      "execution_count": null,
      "metadata": {
        "id": "6fDhaU1PrZNo"
      },
      "outputs": [],
      "source": [
        "#Marker chosing\n",
        "def player_input():\n",
        "  marker=''\n",
        "  while not (marker==\"X\" or marker==\"O\"):\n",
        "    marker=input('{}: Do you want to be X or O? '.format(p1)).upper()\n",
        "\n",
        "  if marker==\"X\":\n",
        "    return (\"X\",'O')\n",
        "  else:\n",
        "    return ('O','X')"
      ]
    },
    {
      "cell_type": "code",
      "execution_count": null,
      "metadata": {
        "id": "MMis2qjZs33h"
      },
      "outputs": [],
      "source": [
        "# Placing marker in position\n",
        "def place_marker(board, marker, position):\n",
        "  board[position]=marker"
      ]
    },
    {
      "cell_type": "code",
      "execution_count": null,
      "metadata": {
        "id": "RqDLM3CgtTZE"
      },
      "outputs": [],
      "source": [
        "# Wining check):\n",
        "def win_check(board, mark):\n",
        "  return ((board[7] == mark and board[8] == mark and board[9] == mark) or # across the top\n",
        "    (board[4] == mark and board[5] == mark and board[6] == mark) or # across the middle\n",
        "    (board[1] == mark and board[2] == mark and board[3] == mark) or # across the bottom\n",
        "    (board[1] == mark and board[4] == mark and board[7] == mark) or # down the middle\n",
        "    (board[2] == mark and board[5] == mark and board[8] == mark) or # down the middle\n",
        "    (board[3] == mark and board[6] == mark and board[9] == mark) or # down the right side\n",
        "    (board[3] == mark and board[5] == mark and board[7] == mark) or # diagonal\n",
        "    (board[1] == mark and board[5] == mark and board[9] == mark)) # diagonal"
      ]
    },
    {
      "cell_type": "code",
      "execution_count": null,
      "metadata": {
        "id": "6HmqEPG1vGUc"
      },
      "outputs": [],
      "source": [
        "# First turn choosing\n",
        "import random\n",
        "\n",
        "def choose_first():\n",
        "  if random.randint(0, 1) == 0:\n",
        "    return p1\n",
        "  else:\n",
        "    return p2"
      ]
    },
    {
      "cell_type": "code",
      "execution_count": null,
      "metadata": {
        "id": "WUzluekwvz8L"
      },
      "outputs": [],
      "source": [
        "# player input space check\n",
        "def space_check(board, position):\n",
        "  return board[position] == ' '"
      ]
    },
    {
      "cell_type": "code",
      "execution_count": null,
      "metadata": {
        "id": "oj5vqyhWw4e7"
      },
      "outputs": [],
      "source": [
        "# Cheacking full board\n",
        "def full_board_check(board):\n",
        "  for i in range(1,10):\n",
        "    if space_check(board, i):\n",
        "      return False\n",
        "  return True"
      ]
    },
    {
      "cell_type": "code",
      "execution_count": null,
      "metadata": {
        "id": "ioixatEAxaBX"
      },
      "outputs": [],
      "source": [
        "# Player position choice\n",
        "def player_choice(board):\n",
        "  position=0\n",
        "\n",
        "  while position not in [1,2,3,4,5,6,7,8,9] or not space_check(board, position):\n",
        "    position=int(input(\"Choose your next position: (1-9) \"))\n",
        "  return position"
      ]
    },
    {
      "cell_type": "code",
      "execution_count": null,
      "metadata": {
        "id": "bNiT5iwEyUo0"
      },
      "outputs": [],
      "source": [
        "# Game replay\n",
        "def replay():\n",
        "  return input('Do you want to play again? Enter Yes or No: ').lower().startswith('y')"
      ]
    },
    {
      "cell_type": "code",
      "execution_count": null,
      "metadata": {
        "colab": {
          "base_uri": "https://localhost:8080/"
        },
        "id": "Sqxbdp6Dy0eC",
        "outputId": "d2487ec4-49da-4ace-b280-d9af45cafba3"
      },
      "outputs": [
        {
          "output_type": "stream",
          "name": "stdout",
          "text": [
            "   |   |\n",
            " O | X |  \n",
            "   |   |\n",
            "-----------\n",
            "   |   |\n",
            " O |   |  \n",
            "   |   |\n",
            "-----------\n",
            "   |   |\n",
            " X |   |  \n",
            "   |   |\n"
          ]
        }
      ],
      "source": [
        "# Main game functions\n",
        "print(\"WELCOME TO TIC-TAC-TOE!\")\n",
        "\n",
        "while True:\n",
        "  #First reset the board list\n",
        "  board=[\" \"] * 10\n",
        "  player_name_input()\n",
        "  p1_marker, p2_marker = player_input()\n",
        "  turn=choose_first()\n",
        "  print(turn+' will go first.')\n",
        "  # asking for permission to play the game\n",
        "  play_game=input(\"Are you ready to play the game? Enter Yes or No: \")\n",
        "\n",
        "  if play_game.lower()[0]=='y':\n",
        "    game_on=True\n",
        "  else:\n",
        "    game_on=False\n",
        "  while game_on:\n",
        "    if turn==p1:\n",
        "        #Player 1's turn\n",
        "\n",
        "        display_board(board)\n",
        "        position=player_choice(board)\n",
        "        place_marker(board, p1_marker, position)\n",
        "\n",
        "        if win_check(board, p1_marker):\n",
        "          display_board(board)\n",
        "          print(\"Congratulation! {} you have won the game!\".format(p1))\n",
        "          game_on=False\n",
        "        else:\n",
        "          if full_board_check(board):\n",
        "            display_board(board)\n",
        "            print(\"The game is a draw!\")\n",
        "            break\n",
        "          else:\n",
        "            turn=p2\n",
        "    else:\n",
        "        # Player 2's turn\n",
        "\n",
        "\n",
        "        display_board(board)\n",
        "        position=player_choice(board)\n",
        "        place_marker(board, p2_marker, position)\n",
        "\n",
        "        if win_check(board, p2_marker):\n",
        "          display_board(board)\n",
        "          print(\"Congratulation! {} you have won the game!\".format(p2))\n",
        "          game_on=False\n",
        "        else:\n",
        "          if full_board_check(board):\n",
        "            display_board(board)\n",
        "            print(\"The game is a draw!\")\n",
        "            break\n",
        "          else:\n",
        "            turn=p1\n",
        "  if not replay():\n",
        "    break\n",
        ""
      ]
    }
  ],
  "metadata": {
    "colab": {
      "provenance": [],
      "include_colab_link": true
    },
    "kernelspec": {
      "display_name": "Python 3",
      "name": "python3"
    },
    "language_info": {
      "name": "python"
    }
  },
  "nbformat": 4,
  "nbformat_minor": 0
}